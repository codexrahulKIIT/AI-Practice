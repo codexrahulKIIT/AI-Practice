{
 "cells": [
  {
   "cell_type": "code",
   "execution_count": 4,
   "id": "98256512-9834-463b-8100-b818e5a597fb",
   "metadata": {},
   "outputs": [
    {
     "name": "stdout",
     "output_type": "stream",
     "text": [
      "3\n",
      "4\n",
      "5\n",
      "6\n",
      "7\n",
      "8\n",
      "9\n"
     ]
    }
   ],
   "source": [
    "for num in range(3,10): \n",
    "    print(num)"
   ]
  },
  {
   "cell_type": "code",
   "execution_count": 6,
   "id": "4e2a9442-bb15-44b3-a090-11c93b8da9ef",
   "metadata": {},
   "outputs": [
    {
     "name": "stdout",
     "output_type": "stream",
     "text": [
      "At index 0 the letter is a\n",
      "At index 1 the letter is b\n",
      "At index 2 the letter is c\n",
      "At index 3 the letter is d\n",
      "At index 4 the letter is e\n"
     ]
    }
   ],
   "source": [
    " index_count = 0\n",
    "\n",
    "for letter in 'abcde':\n",
    "    print('At index {} the letter is {}'.format(index_count, letter))\n",
    "    index_count +=1"
   ]
  },
  {
   "cell_type": "code",
   "execution_count": 10,
   "id": "1e2b27fb-c6ee-407b-b0ea-2ae5a78188a8",
   "metadata": {},
   "outputs": [],
   "source": [
    "mylist1 = [1,2,3,5,6]\n",
    "mylist2 = ['a','b','c','d']\n",
    "mylist3 = [100,200,300,400]"
   ]
  },
  {
   "cell_type": "code",
   "execution_count": 12,
   "id": "1c58fe1d-998c-4756-a03c-c63ecdc0e654",
   "metadata": {},
   "outputs": [
    {
     "name": "stdout",
     "output_type": "stream",
     "text": [
      "(1, 'a', 100)\n",
      "(2, 'b', 200)\n",
      "(3, 'c', 300)\n",
      "(5, 'd', 400)\n"
     ]
    }
   ],
   "source": [
    "for item in zip(mylist1, mylist2, mylist3):\n",
    "    print(item)"
   ]
  },
  {
   "cell_type": "code",
   "execution_count": 14,
   "id": "d8901e12-b315-4e7d-94e4-f2151757d3af",
   "metadata": {},
   "outputs": [
    {
     "data": {
      "text/plain": [
       "[(1, 'a'), (2, 'b'), (3, 'c'), (5, 'd')]"
      ]
     },
     "execution_count": 14,
     "metadata": {},
     "output_type": "execute_result"
    }
   ],
   "source": [
    "list(zip(mylist1, mylist2))"
   ]
  },
  {
   "cell_type": "code",
   "execution_count": 16,
   "id": "06bd9c9c-3d31-402d-8461-01464fbb7ae5",
   "metadata": {},
   "outputs": [],
   "source": [
    "mylist = [1,2,3,4]\n",
    "I = iter(mylist)"
   ]
  },
  {
   "cell_type": "code",
   "execution_count": 18,
   "id": "f6c735c2-df61-4eab-ab2d-fb467422fd06",
   "metadata": {},
   "outputs": [
    {
     "data": {
      "text/plain": [
       "<list_iterator at 0x23281a9d2d0>"
      ]
     },
     "execution_count": 18,
     "metadata": {},
     "output_type": "execute_result"
    }
   ],
   "source": [
    "I"
   ]
  },
  {
   "cell_type": "code",
   "execution_count": 20,
   "id": "a5dabe8a-76fd-474f-8b3e-de4421c68659",
   "metadata": {},
   "outputs": [
    {
     "data": {
      "text/plain": [
       "1"
      ]
     },
     "execution_count": 20,
     "metadata": {},
     "output_type": "execute_result"
    }
   ],
   "source": [
    "I.__next__()"
   ]
  },
  {
   "cell_type": "code",
   "execution_count": 22,
   "id": "63ed86ef-84ae-40ff-8421-46ce60c8a303",
   "metadata": {},
   "outputs": [
    {
     "data": {
      "text/plain": [
       "2"
      ]
     },
     "execution_count": 22,
     "metadata": {},
     "output_type": "execute_result"
    }
   ],
   "source": [
    "I.__next__()"
   ]
  },
  {
   "cell_type": "code",
   "execution_count": 25,
   "id": "d485b486-3c3d-4dc9-93f7-e9fa3212dc21",
   "metadata": {},
   "outputs": [
    {
     "data": {
      "text/plain": [
       "3"
      ]
     },
     "execution_count": 25,
     "metadata": {},
     "output_type": "execute_result"
    }
   ],
   "source": [
    "I.__next__()"
   ]
  },
  {
   "cell_type": "code",
   "execution_count": 27,
   "id": "92f2e02f-c958-4f69-91f3-57a0c802aedc",
   "metadata": {},
   "outputs": [
    {
     "data": {
      "text/plain": [
       "4"
      ]
     },
     "execution_count": 27,
     "metadata": {},
     "output_type": "execute_result"
    }
   ],
   "source": [
    "I.__next__()"
   ]
  },
  {
   "cell_type": "code",
   "execution_count": 35,
   "id": "38021e28-4b2c-47b2-bf52-be1a86567ad9",
   "metadata": {},
   "outputs": [
    {
     "name": "stdout",
     "output_type": "stream",
     "text": [
      "81\n"
     ]
    }
   ],
   "source": [
    "def square(number):\n",
    "    print(number ** 2)\n",
    "\n",
    "square(9)"
   ]
  },
  {
   "cell_type": "code",
   "execution_count": 18,
   "id": "9eade4be-90ac-456e-9e8e-5940e0d8e9b1",
   "metadata": {},
   "outputs": [
    {
     "name": "stdout",
     "output_type": "stream",
     "text": [
      "16\n",
      "None\n"
     ]
    }
   ],
   "source": [
    "#Basic function syntax\n",
    "def square (number):\n",
    "    print(number  ** 2)\n",
    "result = square(4)\n",
    "print(result)"
   ]
  },
  {
   "cell_type": "code",
   "execution_count": 30,
   "id": "1de6ffb3-39b1-413b-a67e-885208564607",
   "metadata": {},
   "outputs": [
    {
     "name": "stdout",
     "output_type": "stream",
     "text": [
      "15\n"
     ]
    }
   ],
   "source": [
    "#function with multiple parameter\n",
    "def add(numOne, numTwo):\n",
    "    return numOne + numTwo\n",
    "print(add(5, 10))"
   ]
  },
  {
   "cell_type": "code",
   "execution_count": 34,
   "id": "df70513a-20e9-44b7-8cea-9f3e009ce018",
   "metadata": {},
   "outputs": [
    {
     "name": "stdout",
     "output_type": "stream",
     "text": [
      "40\n",
      "aaaaa\n",
      "ccccc\n"
     ]
    }
   ],
   "source": [
    "#Polymorphism in function\n",
    "def multiply(p1, p2):\n",
    "    return p1 * p2\n",
    "\n",
    "print(multiply(8,5))\n",
    "print(multiply('a',5))\n",
    "print(multiply(5, 'c'))\n",
    "\n"
   ]
  },
  {
   "cell_type": "code",
   "execution_count": 36,
   "id": "c9ccfaab-526b-45cb-8b20-3bee56ab0730",
   "metadata": {},
   "outputs": [
    {
     "name": "stdout",
     "output_type": "stream",
     "text": [
      "13\n"
     ]
    }
   ],
   "source": [
    "def add(a1, a2): \n",
    "    return a1 + a2\n",
    "\n",
    "print(add(8,5))\n"
   ]
  },
  {
   "cell_type": "code",
   "execution_count": 54,
   "id": "67f395bd-744a-4d3e-aff7-4e6685ce4610",
   "metadata": {},
   "outputs": [
    {
     "name": "stdout",
     "output_type": "stream",
     "text": [
      "Area: 28.27, Circumference: 18.85\n"
     ]
    }
   ],
   "source": [
    "#function return multiple value\n",
    "import math\n",
    "def circle_stats(radius):\n",
    "    area =  math.pi * radius ** 2\n",
    "    circumfrence = 2 * math.pi * radius\n",
    "    return area, circumfrence\n",
    "a,c = circle_stats(3)\n",
    "print(\"Area: {:.2f}, Circumference: {:.2f}\".format(a, c))\n",
    "  "
   ]
  },
  {
   "cell_type": "code",
   "execution_count": 62,
   "id": "210fc1ca-95d5-435d-8e42-b503820cbad1",
   "metadata": {},
   "outputs": [
    {
     "name": "stdout",
     "output_type": "stream",
     "text": [
      "Hello, Rahul!\n"
     ]
    }
   ],
   "source": [
    "#default parameter value\n",
    "def greet(name= 'User'):\n",
    "    return \"Hello, \" + name + \"!\"\n",
    "print(greet(\"Rahul\"))"
   ]
  },
  {
   "cell_type": "code",
   "execution_count": 66,
   "id": "767f0db8-ab76-4389-9f09-0452074a342a",
   "metadata": {},
   "outputs": [
    {
     "name": "stdout",
     "output_type": "stream",
     "text": [
      "27\n"
     ]
    }
   ],
   "source": [
    "#Lambda Function\n",
    "\n",
    "def cube(num):\n",
    "    return num ** 3 \n",
    "cube = lambda x: x ** 3\n",
    "print(cube(3))"
   ]
  },
  {
   "cell_type": "code",
   "execution_count": 70,
   "id": "3ad357e1-5b61-446d-a382-13f18e50f133",
   "metadata": {},
   "outputs": [
    {
     "name": "stdout",
     "output_type": "stream",
     "text": [
      "(1, 2)\n",
      "3\n",
      "(1, 2, 3)\n",
      "6\n",
      "(1, 2, 3, 4, 5, 6, 7, 8)\n",
      "36\n"
     ]
    }
   ],
   "source": [
    "#function with args\n",
    "\n",
    "def sum_all(*args):\n",
    "    print(args) \n",
    "    return sum(args)\n",
    "print(sum_all(1,2))\n",
    "print(sum_all(1,2,3))\n",
    "print(sum_all(1,2,3,4,5,6,7,8))"
   ]
  },
  {
   "cell_type": "code",
   "execution_count": 72,
   "id": "b0dfe51d-32ff-4726-8fa6-cc1c222dfd49",
   "metadata": {},
   "outputs": [
    {
     "name": "stdout",
     "output_type": "stream",
     "text": [
      "Name:  rahul Power:  Irone Dome\n"
     ]
    }
   ],
   "source": [
    "#function with **kwargs\n",
    "\n",
    "def print_kwargs(name,power):\n",
    "    print(\"Name: \", name, \"Power: \", power)\n",
    "print_kwargs(name= \"rahul\", power = \"Irone Dome\")"
   ]
  },
  {
   "cell_type": "code",
   "execution_count": 76,
   "id": "ade15676-d91e-4efb-97cc-d3e9e9f30108",
   "metadata": {},
   "outputs": [],
   "source": [
    "# Genrate a function with yield\n",
    "def even_genrator(limit):\n",
    "    for i in range(2, limit + 1,2):\n",
    "        print(i)\n"
   ]
  },
  {
   "cell_type": "code",
   "execution_count": 78,
   "id": "3b413c92-b2fe-47f1-814c-baa88d6479e4",
   "metadata": {},
   "outputs": [],
   "source": [
    "#recursive function\n",
    "\n",
    "def factorial(n):\n",
    "    if n == 0:\n",
    "        return 1\n",
    "    else:  \n",
    "        return n * factorial(n-1)"
   ]
  },
  {
   "cell_type": "code",
   "execution_count": 80,
   "id": "3c969810-dce5-4934-9f6c-a92cfbf31df0",
   "metadata": {},
   "outputs": [],
   "source": [
    "#Scopes and clousere in python"
   ]
  },
  {
   "cell_type": "code",
   "execution_count": 84,
   "id": "79f60bf0-260e-46be-916f-40c8d25e756f",
   "metadata": {},
   "outputs": [
    {
     "name": "stdout",
     "output_type": "stream",
     "text": [
      "Rahul Sharma\n"
     ]
    }
   ],
   "source": [
    "username = \"Rahul Sharma\"\n",
    "def func():\n",
    "    username = \"Rahul\"\n",
    "print(username)\n",
    "func()"
   ]
  },
  {
   "cell_type": "code",
   "execution_count": 86,
   "id": "6a30f45e-f5d9-416a-a59e-168cae11efa0",
   "metadata": {},
   "outputs": [
    {
     "name": "stdout",
     "output_type": "stream",
     "text": [
      "100\n"
     ]
    }
   ],
   "source": [
    "x = 99\n",
    "def func2(y):\n",
    "    z = x + y\n",
    "    return z\n",
    "result = func2(1)\n",
    "print(result)"
   ]
  },
  {
   "cell_type": "code",
   "execution_count": 94,
   "id": "b8e26342-7475-46cd-a29e-7785150a35a2",
   "metadata": {},
   "outputs": [
    {
     "name": "stdout",
     "output_type": "stream",
     "text": [
      "12\n"
     ]
    }
   ],
   "source": [
    "def func3():\n",
    "    global x\n",
    "    x = 12\n",
    "func3()\n",
    "print(x)"
   ]
  },
  {
   "cell_type": "code",
   "execution_count": 96,
   "id": "dc43d4e1-1b6d-4780-8285-04a2de375374",
   "metadata": {},
   "outputs": [
    {
     "name": "stdout",
     "output_type": "stream",
     "text": [
      "88\n"
     ]
    }
   ],
   "source": [
    "def f1():\n",
    "    x = 88\n",
    "    def f2():\n",
    "        print(x)\n",
    "    f2()\n",
    "f1()"
   ]
  },
  {
   "cell_type": "code",
   "execution_count": 126,
   "id": "398d3532-9c7f-4cbc-b2e1-88f36d4272f5",
   "metadata": {},
   "outputs": [
    {
     "name": "stdout",
     "output_type": "stream",
     "text": [
      "Model s\n"
     ]
    }
   ],
   "source": [
    "#Basic class and object\n",
    "\n",
    "class Car: \n",
    "    def __init__(self, Brand, Model):\n",
    "        self.Brand = Brand\n",
    "        self.Model = Model\n",
    "    def full_name(self):\n",
    "        return f\"{self.Brand} {self.Model}\"\n",
    "\n",
    "class ElectricCar(Car):\n",
    "    def __init__(self, Brand, Model, Battery_size):\n",
    "        super().__init__(Brand, Model)\n",
    "        self.Battery_size = Battery_size\n",
    "\n",
    "my_tesla = ElectricCar(\"Tesla\", \"Model s\", \"85kwh\")\n",
    "print(my_tesla.Model)\n",
    "        \n"
   ]
  },
  {
   "cell_type": "code",
   "execution_count": 15,
   "id": "12286f23-7303-416c-9fa9-a3e90d562542",
   "metadata": {},
   "outputs": [
    {
     "name": "stdout",
     "output_type": "stream",
     "text": [
      "Model S\n",
      "Electric charge\n",
      "Petrol or Diesel\n",
      "3\n",
      "Cars are amazing\n"
     ]
    }
   ],
   "source": [
    "# Base class\n",
    "class Car: \n",
    "    total_car = 0  # Class variable to track total car objects\n",
    "\n",
    "    def __init__(self, Brand, Model):\n",
    "        self.Brand = Brand  # Instance variable\n",
    "        self.Model = Model  # Instance variable\n",
    "        Car.total_car += 1  # Increments the class variable each time a car is created\n",
    "\n",
    "    def full_name(self):\n",
    "        return f\"{self.Brand} {self.Model}\"  # Returns full name of the car\n",
    "    \n",
    "    def fuel_type(self):  # Default fuel type method\n",
    "        return \"Petrol or Diesel\"\n",
    "\n",
    "    @staticmethod\n",
    "\n",
    "    @staticmethod\n",
    "    def general_description():  # Static method (does not require self)\n",
    "        return \"Cars are amazing\"\n",
    "\n",
    "# Derived class (inherits from Car)\n",
    "class ElectricCar(Car):\n",
    "    def __init__(self, Brand, Model, Battery_size):\n",
    "        super().__init__(Brand, Model)  # Calls the constructor of Car class\n",
    "        self.Battery_size = Battery_size  # Adds an extra attribute for battery size\n",
    "\n",
    "    def fuel_type(self):  # Overriding parent method\n",
    "        return \"Electric charge\"\n",
    "\n",
    "# Object of ElectricCar\n",
    "my_tesla = ElectricCar(\"Tesla\", \"Model S\", \"85kWh\")\n",
    "print(my_tesla.Model)  # Accessing instance variable\n",
    "\n",
    "print(my_tesla.fuel_type())  # Calls overridden method in ElectricCar\n",
    "\n",
    "# Objects of Car class\n",
    "safari = Car(\"Tata\", \"Sumo Gold\")\n",
    "safariThree = Car(\"Tata\", \"CurvEv\")\n",
    "\n",
    "print(safari.fuel_type())  # Calls parent class method\n",
    "\n",
    "print(Car.total_car)  # Accessing class variable\n",
    "\n",
    "print(Car.general_description())  # Calling static method without instance\n"
   ]
  },
  {
   "cell_type": "code",
   "execution_count": 17,
   "id": "03c09ce9-9f5c-4a4b-a6ba-29af5616aaab",
   "metadata": {},
   "outputs": [
    {
     "name": "stdout",
     "output_type": "stream",
     "text": [
      "Rahul\n",
      "Kumar\n"
     ]
    }
   ],
   "source": [
    "#@property Decorator (Getter & Setter)\n",
    "\n",
    "class Person:\n",
    "    def __init__(self, name):\n",
    "        self._name = name  # Private variable\n",
    "\n",
    "    @property\n",
    "    def name(self):  # Getter method\n",
    "        return self._name\n",
    "\n",
    "    @name.setter\n",
    "    def name(self, new_name):  # Setter method\n",
    "        if isinstance(new_name, str):\n",
    "            self._name = new_name\n",
    "        else:\n",
    "            raise ValueError(\"Name must be a string\")\n",
    "\n",
    "p = Person(\"Rahul\")\n",
    "print(p.name)  # ✅ Output: Rahul\n",
    "\n",
    "p.name = \"Kumar\"  # ✅ Updates the name\n",
    "print(p.name)  # ✅ Output: Kumar\n"
   ]
  },
  {
   "cell_type": "code",
   "execution_count": 19,
   "id": "66c34b21-f873-40a0-a5b7-bc54107bde47",
   "metadata": {},
   "outputs": [
    {
     "name": "stdout",
     "output_type": "stream",
     "text": [
      "4\n",
      "Electric\n",
      "True\n",
      "True\n",
      "True\n"
     ]
    }
   ],
   "source": [
    "#Class Inheritance and Isintance\n",
    "\n",
    "class Vehicle:\n",
    "    def wheels(self):\n",
    "        return 4\n",
    "\n",
    "class Electric:\n",
    "    def fuel_type(self):\n",
    "        return \"Electric\"\n",
    "\n",
    "class Tesla(Vehicle, Electric):\n",
    "    def brand(self):\n",
    "        return \"Tesla\"\n",
    "\n",
    "my_tesla = Tesla()\n",
    "print(my_tesla.wheels())     # ✅ Output: 4  (from Vehicle)\n",
    "print(my_tesla.fuel_type())  # ✅ Output: Electric (from Electric)\n",
    "print(isinstance(my_tesla, Tesla))    # ✅ True\n",
    "print(isinstance(my_tesla, Vehicle))  # ✅ True\n",
    "print(isinstance(my_tesla, Electric)) # ✅ True\n"
   ]
  },
  {
   "cell_type": "code",
   "execution_count": 23,
   "id": "0ea78737-6aa8-4220-ad55-27b280337e6d",
   "metadata": {},
   "outputs": [
    {
     "name": "stdout",
     "output_type": "stream",
     "text": [
      "Model S\n",
      "Electric charge\n",
      "Petrol or Diesel\n",
      "3\n",
      "Cars are amazing\n",
      "This is engine\n",
      "this is battery\n"
     ]
    }
   ],
   "source": [
    "#create two class(multiple Inheritance)\n",
    "class Car: \n",
    "    total_car = 0  # Class variable to track total car objects\n",
    "\n",
    "    def __init__(self, Brand, Model):\n",
    "        self.Brand = Brand  # Instance variable\n",
    "        self.Model = Model  # Instance variable\n",
    "        Car.total_car += 1  # Increments the class variable each time a car is created\n",
    "\n",
    "    def full_name(self):\n",
    "        return f\"{self.Brand} {self.Model}\"  # Returns full name of the car\n",
    "    \n",
    "    def fuel_type(self):  # Default fuel type method\n",
    "        return \"Petrol or Diesel\"\n",
    "\n",
    "    @staticmethod\n",
    "\n",
    "    @staticmethod\n",
    "    def general_description():  # Static method (does not require self)\n",
    "        return \"Cars are amazing\"\n",
    "\n",
    "# Derived class (inherits from Car)\n",
    "class ElectricCar(Car):\n",
    "    def __init__(self, Brand, Model, Battery_size):\n",
    "        super().__init__(Brand, Model)  # Calls the constructor of Car class\n",
    "        self.Battery_size = Battery_size  # Adds an extra attribute for battery size\n",
    "\n",
    "    def fuel_type(self):  # Overriding parent method\n",
    "        return \"Electric charge\"\n",
    "\n",
    "# Object of ElectricCar\n",
    "my_tesla = ElectricCar(\"Tesla\", \"Model S\", \"85kWh\")\n",
    "print(my_tesla.Model)  # Accessing instance variable\n",
    "\n",
    "print(my_tesla.fuel_type())  # Calls overridden method in ElectricCar\n",
    "\n",
    "# Objects of Car class\n",
    "safari = Car(\"Tata\", \"Sumo Gold\")\n",
    "safariThree = Car(\"Tata\", \"CurvEv\")\n",
    "\n",
    "print(safari.fuel_type())  # Calls parent class method\n",
    "\n",
    "print(Car.total_car)  # Accessing class variable\n",
    "\n",
    "print(Car.general_description())  # Calling static method without instance\n",
    "\n",
    "class Battery: \n",
    "    def battery_info(self):\n",
    "        return \"this is battery\"\n",
    "\n",
    "class Engine: \n",
    "    def engine_info(self):\n",
    "        return \"This is engine\"\n",
    "\n",
    "class ElectricCarTwo(Battery, Engine, Car):\n",
    "    pass\n",
    "\n",
    "my_new_tesla = ElectricCarTwo(\"Tesal\", \"Model S\")\n",
    "print(my_new_tesla.engine_info())\n",
    "print(my_new_tesla.battery_info())"
   ]
  },
  {
   "cell_type": "code",
   "execution_count": 29,
   "id": "cc53ee99-2ead-48fb-afa1-7b0347ec66c8",
   "metadata": {},
   "outputs": [
    {
     "name": "stdout",
     "output_type": "stream",
     "text": [
      "example_function ran in 2.0034677982330322 time\n"
     ]
    }
   ],
   "source": [
    "#Learn about Decorators\n",
    " # 1- Timing function Execution\n",
    "\n",
    "import time\n",
    "\n",
    "def timer(func):\n",
    "    def wrapper(*args, **kwargs):\n",
    "        start = time.time()\n",
    "        \n",
    "        result = func(*args, **kwargs)\n",
    "        end = time.time()\n",
    "        print(f\"{func.__name__} ran in {end-start} time\")\n",
    "        return result\n",
    "    return wrapper\n",
    "\n",
    "\n",
    "@timer\n",
    "def example_function(n): \n",
    "    time.sleep(n)\n",
    "\n",
    "example_function(2)"
   ]
  },
  {
   "cell_type": "code",
   "execution_count": 41,
   "id": "a05b0518-6e76-4ff3-b8cc-c8c40ce55cf7",
   "metadata": {},
   "outputs": [
    {
     "name": "stdout",
     "output_type": "stream",
     "text": [
      "Calling: hello with args [] and kwargs []\n",
      "hello\n",
      "Calling: greet with args [Rahul] and kwargs [greeting = Sharma]\n",
      "Rahul, Sharma\n"
     ]
    }
   ],
   "source": [
    "# Debugging function call\n",
    "def debug(func):\n",
    "    def wrapper(*args, **kwargs):\n",
    "        # Convert args and kwargs into readable format\n",
    "        args_value = ', '.join(str(arg) for arg in args)\n",
    "        kwargs_value = ', '.join(f\"{k} = {v}\" for k, v in kwargs.items())\n",
    "\n",
    "        # Corrected print statement for debugging\n",
    "        print(f\"Calling: {func.__name__} with args [{args_value}] and kwargs [{kwargs_value}]\")\n",
    "\n",
    "        return func(*args, **kwargs)  # Ensure the function returns its output\n",
    "\n",
    "    return wrapper\n",
    "\n",
    "@debug   \n",
    "def hello():\n",
    "    print(\"hello\")\n",
    "\n",
    "@debug\n",
    "def greet(name, greeting=\"hello, this side Rahul\"):\n",
    "    print(f\"{name}, {greeting}\")\n",
    "\n",
    "# Function Calls\n",
    "hello()\n",
    "greet(\"Rahul\", greeting=\"Sharma\")\n"
   ]
  },
  {
   "cell_type": "code",
   "execution_count": 49,
   "id": "8882448c-611d-47bc-80f4-8cac629e8be7",
   "metadata": {},
   "outputs": [
    {
     "name": "stdout",
     "output_type": "stream",
     "text": [
      "5\n",
      "7\n"
     ]
    }
   ],
   "source": [
    "#cache return value\n",
    "import time\n",
    "\n",
    "def cache(func):\n",
    "    cache_value = {}\n",
    "    def wrapper(*args):\n",
    "        if args in cache_value: \n",
    "            return cache_value[args]\n",
    "        result = func(*args)\n",
    "        cache_value[args] = result\n",
    "        return result\n",
    "    return wrapper\n",
    "@cache\n",
    "\n",
    "def long_running_function(a, b):\n",
    "    time.sleep(4)\n",
    "    return a + b\n",
    "\n",
    "def long_running_function(a,b):\n",
    "    time.sleep(4)\n",
    "    return a+b\n",
    "\n",
    "print(long_running_function(2,3))\n",
    "print(long_running_function(4,3))\n"
   ]
  },
  {
   "cell_type": "code",
   "execution_count": null,
   "id": "58da6003-bcb8-4963-b54c-cbfb938024bb",
   "metadata": {},
   "outputs": [],
   "source": []
  }
 ],
 "metadata": {
  "kernelspec": {
   "display_name": "Python [conda env:base] *",
   "language": "python",
   "name": "conda-base-py"
  },
  "language_info": {
   "codemirror_mode": {
    "name": "ipython",
    "version": 3
   },
   "file_extension": ".py",
   "mimetype": "text/x-python",
   "name": "python",
   "nbconvert_exporter": "python",
   "pygments_lexer": "ipython3",
   "version": "3.12.7"
  }
 },
 "nbformat": 4,
 "nbformat_minor": 5
}
